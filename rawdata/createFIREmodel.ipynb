{
 "cells": [
  {
   "cell_type": "markdown",
   "metadata": {},
   "source": [
    "# Convert the [FIRE](https://galaxies.northwestern.edu/fire-simulations/) data from the isolated galaxy to use in Uniview\n",
    "\n",
    "I will use the isolated galaxy model that we've used for testing [Firefly](https://github.com/ageller/Firefly) here.  That simulation’s “proper name” is control_G4_020 and was run by Paul Torrey as part of his nuclear star formation paper.  Note, the bi-conical outflow in the simulation  is due to AGN feedback, so scientifically this isn’t accurate.  But the look should be fine for our purposes. "
   ]
  },
  {
   "cell_type": "code",
   "execution_count": 23,
   "metadata": {},
   "outputs": [],
   "source": [
    "import csv\n",
    "import pandas as pd\n",
    "import numpy as np\n",
    "\n",
    "# firefly files\n",
    "import sys\n",
    "sys.path.insert(0, '/Users/ageller/Visualizations/Firefly/static/data')\n",
    "\n",
    "from firefly_api.FIREreader import FIREreader\n"
   ]
  },
  {
   "cell_type": "markdown",
   "metadata": {},
   "source": [
    "### Load in the data"
   ]
  },
  {
   "cell_type": "code",
   "execution_count": 15,
   "metadata": {},
   "outputs": [
    {
     "name": "stdout",
     "output_type": "stream",
     "text": [
      "Loading ptype PartType0\n",
      "/Users/ageller/Visualizations/FIREdata/snapdir_050/snapshot_050.0.hdf5\n",
      "Loading ptype PartType4\n",
      "/Users/ageller/Visualizations/FIREdata/snapdir_050/snapshot_050.0.hdf5\n"
     ]
    },
    {
     "data": {
      "text/plain": [
       "[Particle Group of Gas\n",
       " Contains 1066668 (1066668 after dec) particles and 3 arrays,\n",
       " Particle Group of Stars\n",
       " Contains 514118 (514118 after dec) particles and 1 arrays]"
      ]
     },
     "execution_count": 15,
     "metadata": {},
     "output_type": "execute_result"
    }
   ],
   "source": [
    "reader = FIREreader(\n",
    "    #snapdir = \"/Users/agurvich/research/snaps/Control_G4_20/snapdir_050/\",\n",
    "    snapdir = \"/Users/ageller/Visualizations/FIREdata/snapdir_050/\",\n",
    "    snapnum = 50,\n",
    "    ptypes=['PartType0','PartType4'],\n",
    "    UInames=['Gas','Stars'],\n",
    "    dec_factors=[1,1],\n",
    "    returnKeys=['Density','Velocities','Temperature'],\n",
    "    doMags=[0,0,0],\n",
    "    doLogs=[1,0,1],\n",
    "    filterFlags=[1,1,1], ## Note: previously Velocities were automatically included, now you must mark 1 to filter \n",
    "    colormapFlags=[1,1,1], \n",
    "    JSONdir='isolatedGalaxy_s50',\n",
    "    doValidate = False)\n",
    "        \n",
    "reader.loadData()"
   ]
  },
  {
   "cell_type": "code",
   "execution_count": 16,
   "metadata": {},
   "outputs": [],
   "source": [
    "outDict = {\"parts\":{}, \"options\":None}\n",
    "for pg in reader.particleGroups:\n",
    "    outDict['parts'][pg.UIname] = pg.outputToDict()"
   ]
  },
  {
   "cell_type": "code",
   "execution_count": 17,
   "metadata": {},
   "outputs": [
    {
     "data": {
      "text/plain": [
       "{'parts': {'Gas': {'Coordinates': array([[ -8.29072  ,   6.6803894, -12.610132 ],\n",
       "          [ -7.0236144,   7.1231937, -10.539261 ],\n",
       "          [ -5.641641 ,   7.237127 , -11.150634 ],\n",
       "          ...,\n",
       "          [-40.84718  ,  -6.8125515,  61.42491  ],\n",
       "          [-45.157013 ,  -9.304246 ,  48.431717 ],\n",
       "          [-46.971127 , -13.404824 ,  88.89448  ]], dtype=float32),\n",
       "   'log10Density': array([ -6.9275417,  -6.844107 ,  -6.8276525, ...,  -9.61074  ,\n",
       "           -9.32994  , -10.429991 ], dtype=float32),\n",
       "   'Velocities': array([[-392.07446  ,  435.0771   , -334.3628   ],\n",
       "          [-295.4825   ,  381.93094  , -392.7964   ],\n",
       "          [ -67.50525  ,  269.895    , -299.97534  ],\n",
       "          ...,\n",
       "          [ -82.58224  ,  -55.27619  ,   56.62399  ],\n",
       "          [ -71.25266  ,  -50.233826 ,    7.6796403],\n",
       "          [   5.660646 ,  -17.029835 ,  -11.176822 ]], dtype=float32),\n",
       "   'log10Temperature': array([6.746951 , 6.773773 , 6.7626405, ..., 5.1724434, 5.143463 ,\n",
       "          4.2304893], dtype=float32),\n",
       "   'filterKeys': array(['log10Density', 'Velocities', 'log10Temperature'], dtype='<U16'),\n",
       "   'colormapKeys': array(['log10Density', 'Velocities', 'log10Temperature'], dtype='<U16'),\n",
       "   'doSPHrad': [0]},\n",
       "  'Stars': {'Coordinates': array([[ -4.400879 ,   6.745815 ,  -9.962844 ],\n",
       "          [ -4.2998905,   7.9722257, -15.158111 ],\n",
       "          [ -8.339367 ,  12.503461 , -10.316308 ],\n",
       "          ...,\n",
       "          [-37.672497 ,  15.376515 ,  52.668144 ],\n",
       "          [-46.219475 ,  13.181337 ,  58.668724 ],\n",
       "          [-40.268627 ,  -8.83288  ,  53.70224  ]], dtype=float32),\n",
       "   'Velocities': array([[ -275.46338,   568.6427 ,  -617.4629 ],\n",
       "          [ -293.5141 ,   703.8816 , -1032.2144 ],\n",
       "          [ -543.9512 ,   968.1123 ,  -669.27344],\n",
       "          ...,\n",
       "          [-2572.5906 ,  1209.2585 ,  3594.669  ],\n",
       "          [-3114.002  ,  1045.1464 ,  3951.0168 ],\n",
       "          [-2685.6494 ,  -433.73135,  3579.803  ]], dtype=float32),\n",
       "   'filterKeys': array(['Velocities'], dtype='<U10'),\n",
       "   'colormapKeys': array(['Velocities'], dtype='<U10'),\n",
       "   'doSPHrad': [0]}},\n",
       " 'options': None}"
      ]
     },
     "execution_count": 17,
     "metadata": {},
     "output_type": "execute_result"
    }
   ],
   "source": [
    "outDict"
   ]
  },
  {
   "cell_type": "markdown",
   "metadata": {},
   "source": [
    "### Write to output files\n",
    "\n",
    "* We want to take all the high velocity stuff but only some fraction of the rest"
   ]
  },
  {
   "cell_type": "code",
   "execution_count": 26,
   "metadata": {},
   "outputs": [],
   "source": [
    "#gas\n",
    "csvfile = open(\"../data/FIREgas.raw\", 'wt')\n",
    "csvwriter = csv.writer(csvfile, delimiter=' ', quotechar='|', quoting=csv.QUOTE_MINIMAL)\n",
    "\n",
    "coords = outDict['parts']['Gas']['Coordinates']\n",
    "velocities = outDict['parts']['Gas']['Velocities']\n",
    "temperatures = outDict['parts']['Gas']['log10Temperature']\n",
    "densities = outDict['parts']['Gas']['log10Density']\n",
    "\n",
    "vlim = 500\n",
    "dFac = 0.1\n",
    "for c,v,t,d in zip(coords, velocities, temperatures, densities):\n",
    "    doPrint = False\n",
    "    vmag = (v[0]**2. +  v[1]**2. + v[2]**2.)**0.5\n",
    "    if (vmag > 500):\n",
    "        doPrint = True\n",
    "    else:\n",
    "        xx = np.random.random()\n",
    "        if (xx < dFac):\n",
    "            doPrint = True\n",
    "    if (doPrint):\n",
    "        csvwriter.writerow([c[0], c[1], c[2], \n",
    "                            v[0], v[1], v[2],\n",
    "                            vmag, t, d])\n",
    "csvfile.close()"
   ]
  },
  {
   "cell_type": "code",
   "execution_count": 27,
   "metadata": {},
   "outputs": [],
   "source": [
    "#stars\n",
    "csvfile = open(\"../data/FIREstars.raw\", 'wt')\n",
    "csvwriter = csv.writer(csvfile, delimiter=' ', quotechar='|', quoting=csv.QUOTE_MINIMAL)\n",
    "\n",
    "coords = outDict['parts']['Stars']['Coordinates']\n",
    "velocities = outDict['parts']['Gas']['Velocities']\n",
    "\n",
    "dFac = 0.1\n",
    "for c,v in zip(coords, velocities):\n",
    "    doPrint = False\n",
    "    xx = np.random.random()\n",
    "    if (xx < dFac):\n",
    "        doPrint = True\n",
    "        \n",
    "    if (doPrint):\n",
    "        csvwriter.writerow([c[0], c[1], c[2], \n",
    "                            v[0], v[1], v[2],\n",
    "                            vmag, 1, 2])\n",
    "csvfile.close()"
   ]
  },
  {
   "cell_type": "markdown",
   "metadata": {},
   "source": [
    "## Look at this in Firefly"
   ]
  },
  {
   "cell_type": "code",
   "execution_count": 33,
   "metadata": {},
   "outputs": [],
   "source": [
    "from simpleReader import simpleReader\n",
    "import requests\n",
    "from IPython.display import IFrame"
   ]
  },
  {
   "cell_type": "markdown",
   "metadata": {},
   "source": [
    "## Start the server"
   ]
  },
  {
   "cell_type": "code",
   "execution_count": 41,
   "metadata": {},
   "outputs": [],
   "source": [
    "%%bash --bg --proc bg_proc\n",
    "python /Users/ageller/Visualizations/Firefly/FireflyFlaskApp.py"
   ]
  },
  {
   "cell_type": "markdown",
   "metadata": {},
   "source": [
    "## Show Firefly in an IFrame"
   ]
  },
  {
   "cell_type": "code",
   "execution_count": 42,
   "metadata": {},
   "outputs": [
    {
     "data": {
      "text/html": [
       "\n",
       "        <iframe\n",
       "            width=\"1000\"\n",
       "            height=\"700\"\n",
       "            src=\"http://localhost:5000/combined\"\n",
       "            frameborder=\"0\"\n",
       "            allowfullscreen\n",
       "        ></iframe>\n",
       "        "
      ],
      "text/plain": [
       "<IPython.lib.display.IFrame at 0x122b46c50>"
      ]
     },
     "execution_count": 42,
     "metadata": {},
     "output_type": "execute_result"
    }
   ],
   "source": [
    "url = \"http://localhost:5000/combined\"\n",
    "IFrame(url, width=1000, height=700)"
   ]
  },
  {
   "cell_type": "markdown",
   "metadata": {},
   "source": [
    "### Format the data and send it to Firefly"
   ]
  },
  {
   "cell_type": "code",
   "execution_count": 44,
   "metadata": {},
   "outputs": [
    {
     "name": "stdout",
     "output_type": "stream",
     "text": [
      "(111768, 3)\n"
     ]
    },
    {
     "data": {
      "text/plain": [
       "<Response [200]>"
      ]
     },
     "execution_count": 44,
     "metadata": {},
     "output_type": "execute_result"
    }
   ],
   "source": [
    "df = pd.read_csv('../data/FIREgas.raw', delimiter=' ', \n",
    "#df = pd.read_csv('../data/FIREstars.raw', delimiter=' ', \n",
    "                 names=['c0', 'c1','c2', 'v0', 'v1', 'v2', 'vmag', 't', 'd'], header=None)\n",
    "name = \"gas\"\n",
    "coords = np.vstack((df['c0'].values, df['c1'].values,df['c2'].values)).T\n",
    "                  \n",
    "outDict = simpleReader(name, coords, [1,0,0,0.7], 0.5)\n",
    "print(outDict['parts'][name]['Coordinates'].shape)\n",
    "\n",
    "s = pd.Series(outDict).to_json()\n",
    "requests.post(\"http://localhost:5000/data_input\", json=s)"
   ]
  },
  {
   "cell_type": "markdown",
   "metadata": {},
   "source": [
    "*To kill the Firefly server.*"
   ]
  },
  {
   "cell_type": "code",
   "execution_count": 45,
   "metadata": {},
   "outputs": [
    {
     "name": "stdout",
     "output_type": "stream",
     "text": [
      "kill: 10694: No such process\r\n"
     ]
    }
   ],
   "source": [
    "# uncomment the next line\n",
    "! ps aux | grep Firefly | awk '{print $2}' | xargs kill"
   ]
  },
  {
   "cell_type": "code",
   "execution_count": null,
   "metadata": {},
   "outputs": [],
   "source": []
  }
 ],
 "metadata": {
  "kernelspec": {
   "display_name": "Python 3",
   "language": "python",
   "name": "python3"
  },
  "language_info": {
   "codemirror_mode": {
    "name": "ipython",
    "version": 3
   },
   "file_extension": ".py",
   "mimetype": "text/x-python",
   "name": "python",
   "nbconvert_exporter": "python",
   "pygments_lexer": "ipython3",
   "version": "3.7.3"
  }
 },
 "nbformat": 4,
 "nbformat_minor": 2
}
