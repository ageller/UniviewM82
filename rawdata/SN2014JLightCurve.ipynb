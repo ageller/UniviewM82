{
 "cells": [
  {
   "cell_type": "markdown",
   "metadata": {},
   "source": [
    "# Create a data file for SN2014J light curve\n",
    "\n",
    "Using the [AAVSO light curve](https://www.aavso.org/lcg/plot?auid=000-BLG-310&starname=SN+2014J&lastdays=30&start=01/21/2014&stop=02/21/2014&obscode=&obscode_symbol=2&obstotals=yes&calendar=calendar&forcetics=&grid=on&visual=on&uband=on&v=on&pointsize=1&width=1200&height=450&mag1=&mag2=&mean=&vmean=) and [WebPlotDigitizer](https://automeris.io/WebPlotDigitizer/)"
   ]
  },
  {
   "cell_type": "code",
   "execution_count": null,
   "metadata": {},
   "outputs": [],
   "source": []
  }
 ],
 "metadata": {
  "kernelspec": {
   "display_name": "Python 3",
   "language": "python",
   "name": "python3"
  },
  "language_info": {
   "codemirror_mode": {
    "name": "ipython",
    "version": 3
   },
   "file_extension": ".py",
   "mimetype": "text/x-python",
   "name": "python",
   "nbconvert_exporter": "python",
   "pygments_lexer": "ipython3",
   "version": "3.7.3"
  }
 },
 "nbformat": 4,
 "nbformat_minor": 2
}
