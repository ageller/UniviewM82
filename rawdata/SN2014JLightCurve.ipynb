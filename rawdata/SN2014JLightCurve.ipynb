{
 "cells": [
  {
   "cell_type": "markdown",
   "metadata": {},
   "source": [
    "# Create a data file for SN2014J light curve\n",
    "\n",
    "Using the [AAVSO light curve](https://www.aavso.org/lcg/plot?auid=000-BLG-310&starname=SN+2014J&lastdays=30&start=01/21/2014&stop=02/21/2014&obscode=&obscode_symbol=2&obstotals=yes&calendar=calendar&forcetics=&grid=on&visual=on&uband=on&v=on&pointsize=1&width=1200&height=450&mag1=&mag2=&mean=&vmean=) and [WebPlotDigitizer](https://automeris.io/WebPlotDigitizer/)"
   ]
  },
  {
   "cell_type": "code",
   "execution_count": 11,
   "metadata": {},
   "outputs": [],
   "source": [
    "import pandas as pd\n",
    "import numpy as np\n",
    "import matplotlib.pyplot as plt\n",
    "\n",
    "%matplotlib inline"
   ]
  },
  {
   "cell_type": "code",
   "execution_count": 2,
   "metadata": {},
   "outputs": [
    {
     "data": {
      "text/html": [
       "<div>\n",
       "<style scoped>\n",
       "    .dataframe tbody tr th:only-of-type {\n",
       "        vertical-align: middle;\n",
       "    }\n",
       "\n",
       "    .dataframe tbody tr th {\n",
       "        vertical-align: top;\n",
       "    }\n",
       "\n",
       "    .dataframe thead th {\n",
       "        text-align: right;\n",
       "    }\n",
       "</style>\n",
       "<table border=\"1\" class=\"dataframe\">\n",
       "  <thead>\n",
       "    <tr style=\"text-align: right;\">\n",
       "      <th></th>\n",
       "      <th>days</th>\n",
       "      <th>mag</th>\n",
       "    </tr>\n",
       "  </thead>\n",
       "  <tbody>\n",
       "    <tr>\n",
       "      <th>0</th>\n",
       "      <td>0.054591</td>\n",
       "      <td>12.242899</td>\n",
       "    </tr>\n",
       "    <tr>\n",
       "      <th>1</th>\n",
       "      <td>0.573201</td>\n",
       "      <td>12.006140</td>\n",
       "    </tr>\n",
       "    <tr>\n",
       "      <th>2</th>\n",
       "      <td>1.037221</td>\n",
       "      <td>11.784686</td>\n",
       "    </tr>\n",
       "    <tr>\n",
       "      <th>3</th>\n",
       "      <td>1.637717</td>\n",
       "      <td>11.563042</td>\n",
       "    </tr>\n",
       "    <tr>\n",
       "      <th>4</th>\n",
       "      <td>2.374690</td>\n",
       "      <td>11.356438</td>\n",
       "    </tr>\n",
       "    <tr>\n",
       "      <th>5</th>\n",
       "      <td>3.029777</td>\n",
       "      <td>11.188019</td>\n",
       "    </tr>\n",
       "    <tr>\n",
       "      <th>6</th>\n",
       "      <td>3.712159</td>\n",
       "      <td>11.057632</td>\n",
       "    </tr>\n",
       "    <tr>\n",
       "      <th>7</th>\n",
       "      <td>4.640199</td>\n",
       "      <td>10.904063</td>\n",
       "    </tr>\n",
       "    <tr>\n",
       "      <th>8</th>\n",
       "      <td>5.377171</td>\n",
       "      <td>10.781216</td>\n",
       "    </tr>\n",
       "    <tr>\n",
       "      <th>9</th>\n",
       "      <td>6.168734</td>\n",
       "      <td>10.696364</td>\n",
       "    </tr>\n",
       "    <tr>\n",
       "      <th>10</th>\n",
       "      <td>7.014888</td>\n",
       "      <td>10.619050</td>\n",
       "    </tr>\n",
       "    <tr>\n",
       "      <th>11</th>\n",
       "      <td>7.806452</td>\n",
       "      <td>10.602726</td>\n",
       "    </tr>\n",
       "    <tr>\n",
       "      <th>12</th>\n",
       "      <td>8.707196</td>\n",
       "      <td>10.571022</td>\n",
       "    </tr>\n",
       "    <tr>\n",
       "      <th>13</th>\n",
       "      <td>9.880893</td>\n",
       "      <td>10.516098</td>\n",
       "    </tr>\n",
       "    <tr>\n",
       "      <th>14</th>\n",
       "      <td>10.808933</td>\n",
       "      <td>10.499584</td>\n",
       "    </tr>\n",
       "    <tr>\n",
       "      <th>15</th>\n",
       "      <td>11.600496</td>\n",
       "      <td>10.498488</td>\n",
       "    </tr>\n",
       "    <tr>\n",
       "      <th>16</th>\n",
       "      <td>12.419355</td>\n",
       "      <td>10.489741</td>\n",
       "    </tr>\n",
       "    <tr>\n",
       "      <th>17</th>\n",
       "      <td>13.456576</td>\n",
       "      <td>10.488305</td>\n",
       "    </tr>\n",
       "    <tr>\n",
       "      <th>18</th>\n",
       "      <td>14.384615</td>\n",
       "      <td>10.487020</td>\n",
       "    </tr>\n",
       "    <tr>\n",
       "      <th>19</th>\n",
       "      <td>15.749380</td>\n",
       "      <td>10.469902</td>\n",
       "    </tr>\n",
       "    <tr>\n",
       "      <th>20</th>\n",
       "      <td>17.059553</td>\n",
       "      <td>10.490931</td>\n",
       "    </tr>\n",
       "    <tr>\n",
       "      <th>21</th>\n",
       "      <td>17.987593</td>\n",
       "      <td>10.527717</td>\n",
       "    </tr>\n",
       "    <tr>\n",
       "      <th>22</th>\n",
       "      <td>19.052109</td>\n",
       "      <td>10.533858</td>\n",
       "    </tr>\n",
       "    <tr>\n",
       "      <th>23</th>\n",
       "      <td>20.007444</td>\n",
       "      <td>10.616292</td>\n",
       "    </tr>\n",
       "    <tr>\n",
       "      <th>24</th>\n",
       "      <td>21.153846</td>\n",
       "      <td>10.698461</td>\n",
       "    </tr>\n",
       "    <tr>\n",
       "      <th>25</th>\n",
       "      <td>22.027295</td>\n",
       "      <td>10.765779</td>\n",
       "    </tr>\n",
       "    <tr>\n",
       "      <th>26</th>\n",
       "      <td>23.064516</td>\n",
       "      <td>10.840486</td>\n",
       "    </tr>\n",
       "    <tr>\n",
       "      <th>27</th>\n",
       "      <td>24.047146</td>\n",
       "      <td>10.892425</td>\n",
       "    </tr>\n",
       "    <tr>\n",
       "      <th>28</th>\n",
       "      <td>25.057072</td>\n",
       "      <td>10.951940</td>\n",
       "    </tr>\n",
       "    <tr>\n",
       "      <th>29</th>\n",
       "      <td>25.739454</td>\n",
       "      <td>11.042366</td>\n",
       "    </tr>\n",
       "    <tr>\n",
       "      <th>30</th>\n",
       "      <td>26.449132</td>\n",
       "      <td>11.094683</td>\n",
       "    </tr>\n",
       "    <tr>\n",
       "      <th>31</th>\n",
       "      <td>27.540943</td>\n",
       "      <td>11.138857</td>\n",
       "    </tr>\n",
       "    <tr>\n",
       "      <th>32</th>\n",
       "      <td>28.796526</td>\n",
       "      <td>11.205647</td>\n",
       "    </tr>\n",
       "    <tr>\n",
       "      <th>33</th>\n",
       "      <td>30.024814</td>\n",
       "      <td>11.234403</td>\n",
       "    </tr>\n",
       "  </tbody>\n",
       "</table>\n",
       "</div>"
      ],
      "text/plain": [
       "         days        mag\n",
       "0    0.054591  12.242899\n",
       "1    0.573201  12.006140\n",
       "2    1.037221  11.784686\n",
       "3    1.637717  11.563042\n",
       "4    2.374690  11.356438\n",
       "5    3.029777  11.188019\n",
       "6    3.712159  11.057632\n",
       "7    4.640199  10.904063\n",
       "8    5.377171  10.781216\n",
       "9    6.168734  10.696364\n",
       "10   7.014888  10.619050\n",
       "11   7.806452  10.602726\n",
       "12   8.707196  10.571022\n",
       "13   9.880893  10.516098\n",
       "14  10.808933  10.499584\n",
       "15  11.600496  10.498488\n",
       "16  12.419355  10.489741\n",
       "17  13.456576  10.488305\n",
       "18  14.384615  10.487020\n",
       "19  15.749380  10.469902\n",
       "20  17.059553  10.490931\n",
       "21  17.987593  10.527717\n",
       "22  19.052109  10.533858\n",
       "23  20.007444  10.616292\n",
       "24  21.153846  10.698461\n",
       "25  22.027295  10.765779\n",
       "26  23.064516  10.840486\n",
       "27  24.047146  10.892425\n",
       "28  25.057072  10.951940\n",
       "29  25.739454  11.042366\n",
       "30  26.449132  11.094683\n",
       "31  27.540943  11.138857\n",
       "32  28.796526  11.205647\n",
       "33  30.024814  11.234403"
      ]
     },
     "execution_count": 2,
     "metadata": {},
     "output_type": "execute_result"
    }
   ],
   "source": [
    "df = pd.read_csv('SN2014JAAVSO.csv')\n",
    "df"
   ]
  },
  {
   "cell_type": "code",
   "execution_count": 7,
   "metadata": {},
   "outputs": [
    {
     "data": {
      "text/plain": [
       "(12.2, 10.4)"
      ]
     },
     "execution_count": 7,
     "metadata": {},
     "output_type": "execute_result"
    },
    {
     "data": {
      "image/png": "[encoded data removed]",
      "text/plain": [
       "<Figure size 432x288 with 1 Axes>"
      ]
     },
     "metadata": {
      "needs_background": "light"
     },
     "output_type": "display_data"
    }
   ],
   "source": [
    "f,ax = plt.subplots()\n",
    "ax.plot(df['days'],df['mag'],'.')\n",
    "ax.set_ylim(12.2, 10.4)"
   ]
  },
  {
   "cell_type": "markdown",
   "metadata": {},
   "source": [
    "### Try equation 7 from [this paper](https://arxiv.org/abs/1612.02097)"
   ]
  },
  {
   "cell_type": "code",
   "execution_count": 211,
   "metadata": {},
   "outputs": [],
   "source": [
    "def SNIaLC(t, A, t0, tb, a1, a2, s):\n",
    "    ar = 2.*(a1 + 1.)\n",
    "    ad = a1 - a2\n",
    "    tfac = (t - t0)/tb\n",
    "    return A * tfac**ar * (1. + tfac**(s*ad))**(-2./s)\n"
   ]
  },
  {
   "cell_type": "code",
   "execution_count": 215,
   "metadata": {},
   "outputs": [
    {
     "data": {
      "text/plain": [
       "[<matplotlib.lines.Line2D at 0x1258006d8>]"
      ]
     },
     "execution_count": 215,
     "metadata": {},
     "output_type": "execute_result"
    },
    {
     "data": {
      "image/png": "[encoded data removed]",
      "text/plain": [
       "<Figure size 432x288 with 2 Axes>"
      ]
     },
     "metadata": {
      "needs_background": "light"
     },
     "output_type": "display_data"
    }
   ],
   "source": [
    "tval = np.linspace(0, 30, 100)\n",
    "\n",
    "#fit by eye\n",
    "A = 1\n",
    "t0 = -2\n",
    "tb = 13.\n",
    "a1 = 0.1\n",
    "a2 = -2.2\n",
    "s = 0.6\n",
    "mag0 = 8\n",
    "\n",
    "lum = SNIaLC(tval, A, t0, tb, a1, a2, s)\n",
    "mag = -2.5*np.log10(lum) + mag0 \n",
    "\n",
    "f, (ax1, ax2) = plt.subplots(2,1)\n",
    "ax1.plot(df['days'],df['mag'],'.')\n",
    "ax1.plot(tval, mag)\n",
    "#plt.gca().invert_yaxis()\n",
    "ax1.set_ylim(12.2, 10.4)\n",
    "\n",
    "ax2.plot(tval, lum)"
   ]
  },
  {
   "cell_type": "code",
   "execution_count": null,
   "metadata": {},
   "outputs": [],
   "source": []
  }
 ],
 "metadata": {
  "kernelspec": {
   "display_name": "Python 3",
   "language": "python",
   "name": "python3"
  },
  "language_info": {
   "codemirror_mode": {
    "name": "ipython",
    "version": 3
   },
   "file_extension": ".py",
   "mimetype": "text/x-python",
   "name": "python",
   "nbconvert_exporter": "python",
   "pygments_lexer": "ipython3",
   "version": "3.7.3"
  }
 },
 "nbformat": 4,
 "nbformat_minor": 2
}
