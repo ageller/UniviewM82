{
 "cells": [
  {
   "cell_type": "markdown",
   "metadata": {},
   "source": [
    "# Uniview module for [M82](https://en.wikipedia.org/wiki/Messier_82) \n",
    "\n",
    "I will use the  [FIRE](https://galaxies.northwestern.edu/fire-simulations/) isolated galaxy model that we've used for testing [Firefly](https://github.com/ageller/Firefly) here.  That simulation’s “proper name” is control_G4_020 and was run by Paul Torrey as part of his nuclear star formation paper.  Note, the bi-conical outflow in the simulation  is due to AGN feedback, so scientifically this isn’t accurate.  But the look should be fine for our purposes. \n",
    "\n",
    "*Aaron Geller, 2019*\n",
    "\n",
    "### Imports and function definitions"
   ]
  },
  {
   "cell_type": "code",
   "execution_count": 5,
   "metadata": {},
   "outputs": [],
   "source": [
    "#This directory contains all the data needed for the module. It should be in the same directory as the notebook\n",
    "dataFolder = \"data\"\n",
    "\n",
    "import sys, os, shutil, errno, string, urllib\n",
    "\n",
    "sys.path.append(( os.path.abspath( os.path.join(os.path.realpath(\"__file__\"),  os.pardir, os.pardir) )))\n",
    "#print(sys.path)\n",
    "import uvmodlib.v1 as uvmod"
   ]
  },
  {
   "cell_type": "markdown",
   "metadata": {},
   "source": [
    "### USES Conf Templates"
   ]
  },
  {
   "cell_type": "code",
   "execution_count": 6,
   "metadata": {},
   "outputs": [],
   "source": [
    "GalaxyTemplate = \"\"\"mesh\n",
    "{  \n",
    "    data gas    ./modules/$folderName/FIREgas.raw\n",
    "    #data stars    ./modules/$folderName/FIREstars.raw\n",
    "    data  quad ./modules/$folderName/quad.3ds\n",
    "\n",
    "    dataHints gas disablePostprocessing\n",
    "    #dataHints stars disablePostprocessing\n",
    "\n",
    "    data center    ./modules/$folderName/center.raw\n",
    "\n",
    "    cullRadius $cr\n",
    "    glslVersion 330\n",
    "    enableTypeCheck true\n",
    "    \n",
    "    propertyCollection \n",
    "    {        \n",
    "        __objectName__\n",
    "        {           \n",
    "\n",
    "            \n",
    "            vec1f gasAlpha 1 | public | desc \"gas alpha\" | widget slider | range 0 1\n",
    "            vec1f gasPsize 0.05 | public | desc \"gas particle size\" | widget slider | range 0 0.5\n",
    "            vec1f gasCmapMin -5. | public | desc \"gas colormap min\" | widget slider | range -10 10\n",
    "            vec1f gasCmapMax -2. | public | desc \"gas colormap min\" | widget slider | range -10 10\n",
    "            vec1f gasHighVPsize 0.01 | public | desc \"gas particle size  for v > vMax\" | widget slider | range 0 0.5\n",
    "            vec1f gasHighVAlpha 1 | public | desc \"gas particle alpha for v > vMax\" | widget slider | range 0 1\n",
    "            vec1f gasHighVdt 0.0035 | public | desc \"time step for velocity cylinders\" | widget slider | range 0 0.01\n",
    "            vec1f gasHighVCmapMin 0. | public | desc \"highV gas colormap min\" | widget slider | range 0 1000\n",
    "            vec1f gasHighVCmapMax 700. | public | desc \"highV gas colormap min\" | widget slider | range 0 1000\n",
    "            vec1f gasVMax 500. | public | desc \"gas velocity division for jet\" | widget slider | range 500 1000\n",
    "            \n",
    "            #vec1f starsAlpha 1. | public | desc \"stars alpha\" | widget slider | range 0 1\n",
    "            #vec1f starsPsize 0.2 | public | desc \"stars particle size\" | widget slider | range 0 10\n",
    "            #vec1f starsHighVPsize 0.2 | public | desc \"stars particle size for v > vMax\" | widget slider | range 0 10\n",
    "            #vec1f starsHighVAlpha 1. | public | desc \"stars particle alpha for v > vMax\" | widget slider | range 0 1\n",
    "            #vec1f starsCmapMin -5.| public | desc \"stars velocity colormap min\" | widget slider | range -10 10\n",
    "            #vec1f starsCmapMax -2. | public | desc \"stars velocity colormap max\" | widget slider | range -10 10\n",
    "            #vec1f starsVMax 500. | public | desc \"gas velocity division for jet\" | widget slider | range 500 1000\n",
    "\n",
    "            vec1f rotationX 1.2 | public | desc \"X rotation angle\" | widget slider | range 0 6.283\n",
    "            vec1f rotationY 3.14 | public | desc \"Y rotation angle\" | widget slider | range 0 6.283\n",
    "            vec1f rotationZ 0.0 | public | desc \"Z rotation angle\" | widget slider | range 0 6.283\n",
    "            \n",
    "            vec1f SNRadScale 200 | public | desc \"max SN radius\" | widget slider | range 0 500\n",
    "            vec1f SNAlpha 1 | public | desc \"SN alpha \" | widget slider | range 0 1\n",
    "            vec1f SNTeff 16000 | public | desc \"Teff of for color\" | widget slider | range 0 19000\n",
    "            vec1f SNdlim 0. | public | desc \"size of central solid bit\" | widget slider | range 0 1\n",
    "            vec1f SNdpow 0.9 | public | desc \"exponential factor in falloff\" | widget slider | range 0 10\n",
    "            vec1f SNdfac 25 | public | desc \"multiplicative factor in falloff\" | widget slider | range 0 100\n",
    "            vec3f SNoffset 4.7 2.5 -2.4 | public |desc \"offset of the SN from the galaxy center\"\n",
    "            \n",
    "            vec1f eventTime 0 | public | desc \"event time \" #| widget slider | range 0 30\n",
    "            vec1f transitionLength 5 | public | desc \"transition length in seconds\" \n",
    "            bool jump true | public  | desc \"jump to time without transition\"  \n",
    "            \n",
    "            #there must be some way to pass variables the shader without this, but I don't know it :)\n",
    "            bool true true\n",
    "            bool false false\n",
    "        }\n",
    "    }\n",
    "\n",
    "\n",
    "    ############# gas jet particles\n",
    "    pass\n",
    "    {\n",
    "        useDataObject gas\n",
    "        shader\n",
    "        {\n",
    "            type defaultMeshShader\n",
    "            {\n",
    "                geometryShader   ./modules/$folderName/galaxy.gs\n",
    "                vertexShader ./modules/$folderName/galaxy.vs\n",
    "                fragmentShader   ./modules/$folderName/galaxy.fs\n",
    "                texture cmap ./modules/$folderName/cmapReds.png\n",
    "                {             \n",
    "                    wrapModeS GL_CLAMP_TO_EDGE\n",
    "                    wrapModeR GL_CLAMP_TO_EDGE\n",
    "                    colorspace linear\n",
    "                } \n",
    "                stateManagerVar __objectName__.gasPsize  userPsize\n",
    "                stateManagerVar __objectName__.gasAlpha  userAlpha\n",
    "                stateManagerVar __objectName__.rotationX  userRotationX\n",
    "                stateManagerVar __objectName__.rotationY  userRotationY\n",
    "                stateManagerVar __objectName__.rotationZ  userRotationZ\n",
    "                \n",
    "                stateManagerVar __objectName__.gasHighVCmapMin  cmapMin\n",
    "                stateManagerVar __objectName__.gasHighVCmapMax  cmapMax\n",
    "                stateManagerVar __objectName__.gasVMax  vMax\n",
    "                stateManagerVar __objectName__.gasHighVPsize  highVPsize\n",
    "                stateManagerVar __objectName__.gasHighVAlpha  highVAlpha\n",
    "                stateManagerVar __objectName__.gasHighVdt  highVdt\n",
    "                stateManagerVar __objectName__.true useHighV\n",
    "                stateManagerVar __objectName__.true doLine\n",
    "\n",
    "                glState\n",
    "                {\n",
    "                    UV_CULL_FACE_ENABLE false\n",
    "                    UV_BLEND_ENABLE true\n",
    "                    UV_DEPTH_ENABLE true\n",
    "                    UV_WRITE_MASK_DEPTH true\n",
    "                    UV_BLEND_FUNC GL_SRC_ALPHA GL_ONE_MINUS_SRC_ALPHA\n",
    "                }\n",
    "            }\n",
    "\n",
    "        }  \n",
    "    }\n",
    "\n",
    "   \n",
    "    ############# gas particles\n",
    "    pass\n",
    "    {\n",
    "        useDataObject gas\n",
    "        shader\n",
    "        {\n",
    "            type defaultMeshShader\n",
    "            {\n",
    "                geometryShader   ./modules/$folderName/galaxy.gs\n",
    "                vertexShader ./modules/$folderName/galaxy.vs\n",
    "                fragmentShader   ./modules/$folderName/galaxy.fs\n",
    "                #texture cmap ./modules/$folderName/cmapBlues.png\n",
    "                texture cmap ./modules/$folderName/cmapRedToBlue.png\n",
    "                #texture cmap ./modules/$folderName/bb.png\n",
    "                {             \n",
    "                    wrapModeS GL_CLAMP_TO_EDGE\n",
    "                    wrapModeR GL_CLAMP_TO_EDGE\n",
    "                    colorspace linear\n",
    "                } \n",
    "                stateManagerVar __objectName__.gasPsize  userPsize\n",
    "                stateManagerVar __objectName__.gasAlpha  userAlpha\n",
    "                stateManagerVar __objectName__.rotationX  userRotationX\n",
    "                stateManagerVar __objectName__.rotationY  userRotationY\n",
    "                stateManagerVar __objectName__.rotationZ  userRotationZ\n",
    "                \n",
    "                stateManagerVar __objectName__.gasCmapMin  cmapMin\n",
    "                stateManagerVar __objectName__.gasCmapMax  cmapMax\n",
    "                stateManagerVar __objectName__.gasVMax  vMax\n",
    "                stateManagerVar __objectName__.gasHighVPsize  highVPsize\n",
    "                stateManagerVar __objectName__.gasHighVAlpha  highVAlpha\n",
    "                stateManagerVar __objectName__.gasHighVdt  highVdt\n",
    "                stateManagerVar __objectName__.false useHighV\n",
    "                stateManagerVar __objectName__.false doLine\n",
    "                \n",
    "                glState\n",
    "                {\n",
    "                    UV_CULL_FACE_ENABLE false\n",
    "                    UV_BLEND_ENABLE true\n",
    "                    UV_DEPTH_ENABLE true\n",
    "                    UV_WRITE_MASK_DEPTH true\n",
    "                    UV_BLEND_FUNC GL_SRC_ALPHA GL_ONE_MINUS_SRC_ALPHA\n",
    "                }\n",
    "            }\n",
    "\n",
    "        }  \n",
    "    }\n",
    "    \n",
    "#    ############# stars particles\n",
    "#    pass\n",
    "#    {\n",
    "#        useDataObject stars\n",
    "#        shader\n",
    "#        {\n",
    "#            type defaultMeshShader\n",
    "#            {\n",
    "#                geometryShader   ./modules/$folderName/galaxy.gs\n",
    "#                vertexShader ./modules/$folderName/galaxy.vs\n",
    "#                fragmentShader   ./modules/$folderName/galaxy.fs\n",
    "#                texture cmap ./modules/$folderName/cmapBlues.png\n",
    "#                {             \n",
    "#                    wrapModeS GL_CLAMP_TO_EDGE\n",
    "#                    wrapModeR GL_CLAMP_TO_EDGE\n",
    "#                    colorspace linear\n",
    "#                } \n",
    "#                stateManagerVar __objectName__.starsPsize  userPsize\n",
    "#                stateManagerVar __objectName__.starsAlpha  userAlpha\n",
    "#                stateManagerVar __objectName__.rotationX  userRotationX\n",
    "#                stateManagerVar __objectName__.rotationY  userRotationY\n",
    "#                stateManagerVar __objectName__.rotationZ  userRotationZ\n",
    "#\n",
    "#                stateManagerVar __objectName__.starsCmapMin  cmapMin\n",
    "#                stateManagerVar __objectName__.starsCmapMax  cmapMax\n",
    "#                stateManagerVar __objectName__.starsVMax  vMax\n",
    "#                stateManagerVar __objectName__.starsHighVPsize  highVPsize\n",
    "#                stateManagerVar __objectName__.starsHighVAlpha  highVAlpha\n",
    "#                stateManagerVar __objectName__.gasHighVdt  highVdt #not used for stars\n",
    "#                stateManagerVar __objectName__.true useHighV\n",
    "#                stateManagerVar __objectName__.false doLine\n",
    "#                \n",
    "#                glState\n",
    "#                {\n",
    "#                    UV_CULL_FACE_ENABLE false\n",
    "#                    UV_BLEND_ENABLE true\n",
    "#                    UV_DEPTH_ENABLE true\n",
    "#                    UV_WRITE_MASK_DEPTH true\n",
    "#                    UV_BLEND_FUNC GL_SRC_ALPHA GL_ONE_MINUS_SRC_ALPHA\n",
    "#                }\n",
    "#            }\n",
    "#\n",
    "#        }  \n",
    "#    }\n",
    "#    \n",
    "    \n",
    "    ############# to hold the time information for SN\n",
    "    renderTexture\n",
    "    {\n",
    "        name                      stateTexture\n",
    "        width                     1\n",
    "        height                    1\n",
    "        numTextures               1\n",
    "        isPingPong                true\n",
    "        isPersistent              true\n",
    "        isFramePersistent         true\n",
    "        internalTextureFormat     GL_RGB32F\n",
    "        magnify                   GL_NEAREST\n",
    "        minify                    GL_NEAREST\n",
    "    }\n",
    "    ############# set Transition State\n",
    "    pass \n",
    "    {\n",
    "        useDataObject quad\n",
    "        renderTarget\n",
    "        {\n",
    "            name stateTexture\n",
    "            enableColorClear false\n",
    "        }\n",
    "         shader\n",
    "        {\n",
    "            type defaultMeshShader\n",
    "            {\n",
    "                vertexShader   ./modules/$folderName/pass0.vs\n",
    "                fragmentShader ./modules/$folderName/state.fs\n",
    "                textureFBO stateTexture stateTexture\n",
    "                stateManagerVar __objectName__.transitionLength transitionLength \n",
    "                stateManagerVar __objectName__.jump jump \n",
    "                stateManagerVar __objectName__.eventTime eventTime \n",
    "                parameter2f timeRange 0 400\n",
    "           }\n",
    "        }      \n",
    "    }\n",
    "    \n",
    "    \n",
    "\n",
    "    ############# SN (like stellar corona)   \n",
    "    pass\n",
    "    {\n",
    "        useDataObject center\n",
    "        shader\n",
    "        {\n",
    "            type defaultMeshShader\n",
    "            {\n",
    "                geometryShader   ./modules/$folderName/SNcorona.gs\n",
    "                vertexShader ./modules/$folderName/SNcorona.vs\n",
    "                fragmentShader   ./modules/$folderName/SNcorona.fs\n",
    "                textureFBO stateTexture stateTexture\n",
    "                texture bb ./modules/$folderName/bb.png\n",
    "                {             \n",
    "                    wrapModeS GL_CLAMP_TO_EDGE\n",
    "                    wrapModeR GL_CLAMP_TO_EDGE\n",
    "                    colorspace linear\n",
    "                }\n",
    "                \n",
    "                stateManagerVar __objectName__.SNRadScale  radScale\n",
    "                stateManagerVar __objectName__.SNTeff  Teff\n",
    "                stateManagerVar __objectName__.SNAlpha  userAlpha\n",
    "                stateManagerVar __objectName__.SNdlim  dlim\n",
    "                stateManagerVar __objectName__.SNdpow  dpow\n",
    "                stateManagerVar __objectName__.SNdfac  dfac\n",
    "                stateManagerVar __objectName__.SNoffset  offset\n",
    "                \n",
    "                glState\n",
    "                {\n",
    "                    UV_CULL_FACE_ENABLE false\n",
    "                    UV_BLEND_ENABLE true\n",
    "                    UV_DEPTH_ENABLE false\n",
    "                    UV_WRITE_MASK_DEPTH false\n",
    "                    UV_BLEND_FUNC GL_SRC_ALPHA GL_ONE_MINUS_SRC_ALPHA\n",
    "                }\n",
    "            }\n",
    "\n",
    "        }    \n",
    "    }\n",
    "\n",
    "    \n",
    "}\"\"\"\n"
   ]
  },
  {
   "cell_type": "markdown",
   "metadata": {},
   "source": [
    "### Galaxy and SN Classes"
   ]
  },
  {
   "cell_type": "code",
   "execution_count": 7,
   "metadata": {},
   "outputs": [],
   "source": [
    "class GalaxyClass():\n",
    "    def __init__(self, object):\n",
    "        self.object = object\n",
    "        uvmod.Utility.ensurerelativepathexsists(\"FIREgas.raw\",dataFolder)        \n",
    "        #uvmod.Utility.ensurerelativepathexsists(\"FIREstars.raw\",dataFolder)        \n",
    "        uvmod.Utility.ensurerelativepathexsists(\"galaxy.gs\",dataFolder)\n",
    "        uvmod.Utility.ensurerelativepathexsists(\"galaxy.fs\",dataFolder)\n",
    "        uvmod.Utility.ensurerelativepathexsists(\"galaxy.vs\",dataFolder)\n",
    "        uvmod.Utility.ensurerelativepathexsists(\"SNcorona.gs\",dataFolder)\n",
    "        uvmod.Utility.ensurerelativepathexsists(\"SNcorona.fs\",dataFolder)\n",
    "        uvmod.Utility.ensurerelativepathexsists(\"SNcorona.vs\",dataFolder)\n",
    "        self.cr = 1000\n",
    "    def generatemod(self):\n",
    "        self.object.setgeometry(self.object.name+\"Mesh.usesconf\")\n",
    "        return self.object.generatemod()\n",
    "    def generatefiles(self, absOutDir, relOutDir):\n",
    "        fileName = self.object.name+\"Mesh.usesconf\"\n",
    "        s = string.Template(GalaxyTemplate)\n",
    "        f = open(absOutDir+\"\\\\\"+fileName, 'w')\n",
    "        if f:\n",
    "            f.write(s.substitute(folderName = relOutDir, cr = self.cr))\n",
    "            f.close()\n",
    "        uvmod.Utility.copyfoldercontents(os.getcwd()+\"\\\\\"+dataFolder, absOutDir)"
   ]
  },
  {
   "cell_type": "markdown",
   "metadata": {},
   "source": [
    "### Object Instantiation"
   ]
  },
  {
   "cell_type": "code",
   "execution_count": 8,
   "metadata": {},
   "outputs": [],
   "source": [
    "model = GalaxyClass(uvmod.OrbitalObject())\n",
    "scene = uvmod.Scene()\n",
    "parentScene = uvmod.Scene()\n",
    "modinfo = uvmod.ModuleInformation()\n",
    "generator = uvmod.Generator()"
   ]
  },
  {
   "cell_type": "markdown",
   "metadata": {},
   "source": [
    "### Specify Settings and generate the module"
   ]
  },
  {
   "cell_type": "code",
   "execution_count": 9,
   "metadata": {},
   "outputs": [],
   "source": [
    "scene.setname(\"M82FIRE\")\n",
    "scene.setparent(\"Extragalactic\")\n",
    "scene.setunit(5e18)\n",
    "scene.setentrydist(1e5)\n",
    "scene.setstaticposition(-2.07816693, 1.6584028, 2.27616396)\n",
    "\n",
    "model.object.setcameraradius(1e-7)\n",
    "model.object.setcoord(scene.name)\n",
    "model.object.setname(\"M82FIRE\")\n",
    "model.object.setguiname(\"/KavliLecture/Zooniverse/M82FIRE\")\n",
    "model.object.settargetradius(1)\n",
    "model.object.showatstartup(False)\n",
    "model.cr = 100\n",
    "\n",
    "modinfo.setname(\"M82FIRE\")\n",
    "modinfo.setauthor(\"Aaron Geller<sup>1</sup>, Laura Trouille<sup>1</sup>, Chris Lintott<sup>2</sup> and the FIRE collaboration<sip>3</sup><br />(1)Adler Planetarium,<br />(2)Oxford University,<br />(3)https://fire.northwestern.edu/\")\n",
    "modinfo.cleardependencies()\n",
    "modinfo.setdesc(\"Uniview module for a M82 using FIRE data.  This also contains a SN2014J flash, controlled by eventTime.  The size and alpha follow the AAVSO light curve.\")\n",
    "modinfo.setthumbnail(\"data/M82ScreenshotThumb.png\")\n",
    "modinfo.setversion(\"1.0\")\n",
    "\n",
    "generator.generate(\"M82FIRE\",[scene],[model],modinfo)\n",
    "uvmod.Utility.senduvcommand(model.object.name+\".reload\")\n"
   ]
  },
  {
   "cell_type": "markdown",
   "metadata": {},
   "source": [
    "## To reload"
   ]
  },
  {
   "cell_type": "code",
   "execution_count": 97,
   "metadata": {},
   "outputs": [],
   "source": [
    "from config import Settings"
   ]
  },
  {
   "cell_type": "code",
   "execution_count": 231,
   "metadata": {},
   "outputs": [],
   "source": [
    "uvmod.Utility.copyfoldercontents(os.getcwd()+\"\\\\\"+dataFolder, Settings.uvcustommodulelocation+'\\\\'+model.object.name)\n",
    "uvmod.Utility.senduvcommand(model.object.name+\".reload;\")"
   ]
  },
  {
   "cell_type": "markdown",
   "metadata": {},
   "source": [
    "### Create colormap texture"
   ]
  },
  {
   "cell_type": "code",
   "execution_count": 32,
   "metadata": {},
   "outputs": [],
   "source": [
    "import numpy as np\n",
    "import matplotlib.pyplot as plt\n",
    "from matplotlib import cm"
   ]
  },
  {
   "cell_type": "code",
   "execution_count": 33,
   "metadata": {
    "scrolled": true
   },
   "outputs": [
    {
     "data": {
      "image/png": "[encoded data removed]",
      "text/plain": [
       "<matplotlib.figure.Figure at 0x21ae4b5cf28>"
      ]
     },
     "metadata": {},
     "output_type": "display_data"
    }
   ],
   "source": [
    "gradient = np.linspace(0, 1, 256)\n",
    "gradient = np.vstack((gradient, gradient))\n",
    "\n",
    "def plot_cmap(colormap, fname):\n",
    "    fig=plt.imshow(gradient, aspect=1, cmap=colormap)\n",
    "    plt.axis('off')\n",
    "    fig.axes.get_xaxis().set_visible(False)\n",
    "    fig.axes.get_yaxis().set_visible(False)\n",
    "    plt.savefig(fname, bbox_inches='tight',pad_inches=0)\n",
    "\n",
    "\n",
    "plot_cmap('Blues', 'data/cmapBlues.png')\n",
    "plot_cmap('Reds', 'data/cmapReds.png')\n"
   ]
  },
  {
   "cell_type": "code",
   "execution_count": 219,
   "metadata": {},
   "outputs": [
    {
     "data": {
      "image/png": "[encoded data removed]",
      "text/plain": [
       "<matplotlib.figure.Figure at 0x21ae629f1d0>"
      ]
     },
     "metadata": {},
     "output_type": "display_data"
    }
   ],
   "source": [
    "from matplotlib.transforms import Bbox\n",
    "\n",
    "#cmap1 = plt.get_cmap('afmhot') \n",
    "#cmap1 = plt.get_cmap('copper') \n",
    "cmap1 = plt.get_cmap('Reds_r') \n",
    "cmap2 = plt.get_cmap('Blues')\n",
    "npix = 256\n",
    "gradient = np.linspace(0,1,npix)\n",
    "g1 = np.linspace(0.2,1,npix)\n",
    "gradient1 = np.vstack((gradient, g1))\n",
    "g2 = np.linspace(0.2,1,npix)\n",
    "gradient2 = np.vstack((gradient,g2))\n",
    "\n",
    "f, ax = plt.subplots(1,2, sharex=True)\n",
    "\n",
    "ax[0].imshow(gradient1, aspect = 1., cmap = cmap1)\n",
    "ax[1].imshow(gradient2, aspect = 1., cmap = cmap2)\n",
    "\n",
    "for a in ax:\n",
    "    a.axis('off')\n",
    "    a.xaxis.set_visible(False)\n",
    "    a.yaxis.set_visible(False)\n",
    "\n",
    "\n",
    "f.subplots_adjust(bottom = 0, top = 1, right = 1, left = 0, hspace = 0, wspace = 0)\n",
    "dpi = 72\n",
    "box = Bbox.from_extents(0, 0, 1.69*npix/dpi, 2/dpi) #I don't understand this scaling in x\n",
    "\n",
    "plt.savefig(\"data/cmapRedToBlue.png\",bbox_inches = box, dpi = dpi, pad_inches=0, frameon = False)"
   ]
  },
  {
   "cell_type": "markdown",
   "metadata": {},
   "source": [
    "## M82 position \n",
    "\n",
    "*From https://en.wikipedia.org/wiki/Messier_82*"
   ]
  },
  {
   "cell_type": "code",
   "execution_count": 10,
   "metadata": {},
   "outputs": [],
   "source": [
    "from astropy.coordinates import SkyCoord, Distance\n",
    "from astropy import units"
   ]
  },
  {
   "cell_type": "code",
   "execution_count": 11,
   "metadata": {},
   "outputs": [
    {
     "name": "stdout",
     "output_type": "stream",
     "text": [
      "(-2.07816693, 1.6584028, 2.27616396) Mpc\n"
     ]
    }
   ],
   "source": [
    "RA = \"9h 55m 52.2s\" #right ascension\n",
    "Dec= \"69d 40m 47s\" #declination\n",
    "dist = (3500000 *units.pc).to(units.Mpc) #distance\n",
    "\n",
    "coord = SkyCoord(RA, Dec, dist)\n",
    "\n",
    "#print(coord.cartesian)\n",
    "print(coord.galactic.cartesian)\n"
   ]
  },
  {
   "cell_type": "markdown",
   "metadata": {},
   "source": [
    "## Position  of SN 2014J in M82\n",
    "\n",
    "https://en.wikipedia.org/wiki/SN_2014J"
   ]
  },
  {
   "cell_type": "code",
   "execution_count": 12,
   "metadata": {},
   "outputs": [
    {
     "name": "stdout",
     "output_type": "stream",
     "text": [
      "(-2.07892522, 1.65798914, 2.27577283) Mpc\n"
     ]
    }
   ],
   "source": [
    "RA = \"9h 55m 42.217s\" #right ascension\n",
    "Dec= \"69d 40m 26.56s\" #declination\n",
    "dist = (3500000 *units.pc).to(units.Mpc) #distance\n",
    "\n",
    "SNcoord = SkyCoord(RA, Dec, dist)\n",
    "\n",
    "print(SNcoord.galactic.cartesian)"
   ]
  },
  {
   "cell_type": "code",
   "execution_count": 13,
   "metadata": {},
   "outputs": [
    {
     "name": "stdout",
     "output_type": "stream",
     "text": [
      "(-0.00075829, -0.00041366, -0.00039114) Mpc\n"
     ]
    }
   ],
   "source": [
    "offset = SNcoord.galactic.cartesian - coord.galactic.cartesian\n",
    "print(offset)"
   ]
  },
  {
   "cell_type": "code",
   "execution_count": null,
   "metadata": {},
   "outputs": [],
   "source": []
  }
 ],
 "metadata": {
  "anaconda-cloud": {},
  "kernelspec": {
   "display_name": "Python 3",
   "language": "python",
   "name": "python3"
  },
  "language_info": {
   "codemirror_mode": {
    "name": "ipython",
    "version": 3
   },
   "file_extension": ".py",
   "mimetype": "text/x-python",
   "name": "python",
   "nbconvert_exporter": "python",
   "pygments_lexer": "ipython3",
   "version": "3.7.3"
  }
 },
 "nbformat": 4,
 "nbformat_minor": 1
}
