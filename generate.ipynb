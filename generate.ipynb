{
 "cells": [
  {
   "cell_type": "markdown",
   "metadata": {},
   "source": [
    "# Uniview module for [M82](https://en.wikipedia.org/wiki/Messier_82) \n",
    "\n",
    "I will use the  [FIRE](https://galaxies.northwestern.edu/fire-simulations/) isolated galaxy model that we've used for testing [Firefly](https://github.com/ageller/Firefly) here.  That simulation’s “proper name” is control_G4_020 and was run by Paul Torrey as part of his nuclear star formation paper.  Note, the bi-conical outflow in the simulation  is due to AGN feedback, so scientifically this isn’t accurate.  But the look should be fine for our purposes. \n",
    "\n",
    "*Aaron Geller, 2019*\n",
    "\n",
    "### Imports and function definitions"
   ]
  },
  {
   "cell_type": "code",
   "execution_count": 4,
   "metadata": {},
   "outputs": [],
   "source": [
    "#This directory contains all the data needed for the module. It should be in the same directory as the notebook\n",
    "dataFolder = \"data\"\n",
    "\n",
    "import sys, os, shutil, errno, string, urllib\n",
    "\n",
    "sys.path.append(( os.path.abspath( os.path.join(os.path.realpath(\"__file__\"),  os.pardir, os.pardir) )))\n",
    "#print(sys.path)\n",
    "import uvmodlib.v1 as uvmod"
   ]
  },
  {
   "cell_type": "markdown",
   "metadata": {},
   "source": [
    "### USES Conf Templates"
   ]
  },
  {
   "cell_type": "code",
   "execution_count": 77,
   "metadata": {},
   "outputs": [],
   "source": [
    "GalaxyTemplate = \"\"\"mesh\n",
    "{  \n",
    "    data gas    ./modules/$folderName/FIREgas.raw\n",
    "    data stars    ./modules/$folderName/FIREstars.raw\n",
    "\n",
    "    cullRadius $cr\n",
    "    glslVersion 330\n",
    "    enableTypeCheck true\n",
    "    \n",
    "    propertyCollection \n",
    "    {        \n",
    "        __objectName__\n",
    "        {           \n",
    "\n",
    "            \n",
    "            vec1f gasAlpha 0.1 | public | desc \"gas alpha\" | widget slider | range 0 1\n",
    "            vec1f gasPsize 0.2 | public | desc \"gas particle size\" | widget slider | range 0 10\n",
    "            vec1f gasHighVPsize 2 | public | desc \"gas particle size  for v > vMax\" | widget slider | range 0 10\n",
    "            vec1f gasHighVAlpha 0.07 | public | desc \"gas particle alpha for v > vMax\" | widget slider | range 0 10\n",
    "            vec1f gasVMin 0. | public | desc \"gas velocity colormap min\" | widget slider | range 0 500\n",
    "            vec1f gasVMax 500. | public | desc \"gas velocity colormap max\" | widget slider | range 500 1000\n",
    "            \n",
    "            vec1f starsAlpha 0.015 | public | desc \"stars alpha\" | widget slider | range 0 1\n",
    "            vec1f starsPsize 0.80 | public | desc \"stars particle size\" | widget slider | range 0 10\n",
    "            vec1f starsHighVPsize 0.80 | public | desc \"stars particle size for v > vMax\" | widget slider | range 0 10\n",
    "            vec1f starsHighVAlpha 0.015 | public | desc \"stars particle alpha for v > vMax\" | widget slider | range 0 10\n",
    "            vec1f starsVMin 0. | public | desc \"stars velocity colormap min\" | widget slider | range 0 500\n",
    "            vec1f starsVMax 400. | public | desc \"stars velocity colormap max\" | widget slider | range 500 1000\n",
    "            \n",
    "            vec1f rotationX 2.5 | public | desc \"X rotation angle\" | widget slider | range 0 6.283\n",
    "            vec1f rotationY 2.0 | public | desc \"Y rotation angle\" | widget slider | range 0 6.283\n",
    "            vec1f rotationZ 0.0 | public | desc \"Z rotation angle\" | widget slider | range 0 6.283\n",
    "        }\n",
    "    }\n",
    "\n",
    "\n",
    "   \n",
    "    ############# gas particles\n",
    "    pass\n",
    "    {\n",
    "        useDataObject gas\n",
    "        shader\n",
    "        {\n",
    "            type defaultMeshShader\n",
    "            {\n",
    "                geometryShader   ./modules/$folderName/galaxy.gs\n",
    "                vertexShader ./modules/$folderName/galaxy.vs\n",
    "                fragmentShader   ./modules/$folderName/galaxy.fs\n",
    "                texture cmap ./modules/$folderName/cmapReds.png\n",
    "                {             \n",
    "                    wrapModeS GL_CLAMP_TO_EDGE\n",
    "                    wrapModeR GL_CLAMP_TO_EDGE\n",
    "                    #colorspace linear\n",
    "                } \n",
    "                stateManagerVar __objectName__.gasPsize  userPsize\n",
    "                stateManagerVar __objectName__.gasAlpha  userAlpha\n",
    "                stateManagerVar __objectName__.rotationX  userRotationX\n",
    "                stateManagerVar __objectName__.rotationY  userRotationY\n",
    "                stateManagerVar __objectName__.rotationZ  userRotationZ\n",
    "                \n",
    "                stateManagerVar __objectName__.gasVMin  vMin\n",
    "                stateManagerVar __objectName__.gasVMax  vMax\n",
    "                stateManagerVar __objectName__.gasHighVPsize  highVPsize\n",
    "                stateManagerVar __objectName__.gasHighVAlpha  highVAlpha\n",
    "                glState\n",
    "                {\n",
    "                    UV_CULL_FACE_ENABLE false\n",
    "                    UV_BLEND_ENABLE true\n",
    "                    UV_DEPTH_ENABLE false\n",
    "                    UV_WRITE_MASK_DEPTH true\n",
    "                    UV_BLEND_FUNC GL_SRC_ALPHA GL_ONE_MINUS_SRC_ALPHA\n",
    "                }\n",
    "            }\n",
    "\n",
    "        }  \n",
    "    }\n",
    "    \n",
    "    ############# stars particles\n",
    "    pass\n",
    "    {\n",
    "        useDataObject stars\n",
    "        shader\n",
    "        {\n",
    "            type defaultMeshShader\n",
    "            {\n",
    "                geometryShader   ./modules/$folderName/galaxy.gs\n",
    "                vertexShader ./modules/$folderName/galaxy.vs\n",
    "                fragmentShader   ./modules/$folderName/galaxy.fs\n",
    "                texture cmap ./modules/$folderName/cmapBlues.png\n",
    "                {             \n",
    "                    wrapModeS GL_CLAMP_TO_EDGE\n",
    "                    wrapModeR GL_CLAMP_TO_EDGE\n",
    "                    #colorspace linear\n",
    "                } \n",
    "                stateManagerVar __objectName__.starsPsize  userPsize\n",
    "                stateManagerVar __objectName__.starsAlpha  userAlpha\n",
    "                stateManagerVar __objectName__.rotationX  userRotationX\n",
    "                stateManagerVar __objectName__.rotationY  userRotationY\n",
    "                stateManagerVar __objectName__.rotationZ  userRotationZ\n",
    "\n",
    "                stateManagerVar __objectName__.starsVMin  vMin\n",
    "                stateManagerVar __objectName__.starsVMax  vMax\n",
    "                stateManagerVar __objectName__.starsHighVPsize  highVPsize\n",
    "                stateManagerVar __objectName__.starsHighVAlpha  highVAlpha\n",
    "\n",
    "                glState\n",
    "                {\n",
    "                    UV_CULL_FACE_ENABLE false\n",
    "                    UV_BLEND_ENABLE true\n",
    "                    UV_DEPTH_ENABLE false\n",
    "                    UV_WRITE_MASK_DEPTH true\n",
    "                    UV_BLEND_FUNC GL_SRC_ALPHA GL_ONE_MINUS_SRC_ALPHA\n",
    "                }\n",
    "            }\n",
    "\n",
    "        }  \n",
    "    }\n",
    "    \n",
    "\n",
    "\n",
    "    \n",
    "}\"\"\"\n",
    "\n",
    "SN2014JTemplate = \"\"\"mesh\n",
    "{  \n",
    "    data center    ./modules/$folderName/center.raw\n",
    "    data  quad ./modules/$folderName/quad.3ds\n",
    "    \n",
    "    cullRadius $cr\n",
    "    glslVersion 330\n",
    "    \n",
    "    propertyCollection \n",
    "    {        \n",
    "        __objectName__\n",
    "        {           \n",
    "\n",
    "            vec1f SNRadScale 5 | public | desc \"max SN radius\" | widget slider | range 0 100\n",
    "            vec1f SNAlpha 1 | public | desc \"SN alpha \" | widget slider | range 0 1\n",
    "            vec1f SNTeff 16000 | public | desc \"Teff of for color\" | widget slider | range 0 19000\n",
    "            vec1f SNdlim 0. | public | desc \"size of central solid bit\" | widget slider | range 0 1\n",
    "            vec1f SNdpow 0.9 | public | desc \"exponential factor in falloff\" | widget slider | range 0 10\n",
    "            vec1f SNdfac 2.5 | public | desc \"multiplicative factor in falloff\" | widget slider | range 0 1\n",
    "            \n",
    "            vec1f eventTime 0 | public | desc \"event time \" #| widget slider | range 0 30\n",
    "            vec1f transitionLength 5 | public | desc \"transition length in seconds\" \n",
    "            bool jump true | public  | desc \"jump to time without transition\"          \n",
    "            \n",
    "        }\n",
    "    }\n",
    "    \n",
    "    ############# to hold the time information\n",
    "    renderTexture\n",
    "    {\n",
    "        name                      stateTexture\n",
    "        width                     1\n",
    "        height                    1\n",
    "        numTextures               1\n",
    "        isPingPong                true\n",
    "        isPersistent              true\n",
    "        isFramePersistent         true\n",
    "        internalTextureFormat     GL_RGB32F\n",
    "        magnify                   GL_NEAREST\n",
    "        minify                    GL_NEAREST\n",
    "    }\n",
    "    ############# set Transition State\n",
    "    pass \n",
    "    {\n",
    "        useDataObject quad\n",
    "        renderTarget\n",
    "        {\n",
    "            name stateTexture\n",
    "            enableColorClear false\n",
    "        }\n",
    "         shader\n",
    "        {\n",
    "            type defaultMeshShader\n",
    "            {\n",
    "                vertexShader   ./modules/$folderName/pass0.vs\n",
    "                fragmentShader ./modules/$folderName/state.fs\n",
    "                textureFBO stateTexture stateTexture\n",
    "                stateManagerVar __objectName__.transitionLength transitionLength \n",
    "                stateManagerVar __objectName__.jump jump \n",
    "                stateManagerVar __objectName__.eventTime eventTime \n",
    "                parameter2f timeRange 0 100\n",
    "           }\n",
    "        }      \n",
    "    }\n",
    "    \n",
    "    \n",
    "\n",
    "    ############# SN (like stellar corona)   \n",
    "    pass\n",
    "    {\n",
    "        useDataObject center\n",
    "        shader\n",
    "        {\n",
    "            type defaultMeshShader\n",
    "            {\n",
    "                geometryShader   ./modules/$folderName/SNcorona.gs\n",
    "                vertexShader ./modules/$folderName/SNcorona.vs\n",
    "                fragmentShader   ./modules/$folderName/SNcorona.fs\n",
    "                textureFBO stateTexture stateTexture\n",
    "                texture bb ./modules/$folderName/bb.png\n",
    "                {             \n",
    "                    wrapModeS GL_CLAMP_TO_EDGE\n",
    "                    wrapModeR GL_CLAMP_TO_EDGE\n",
    "                    colorspace linear\n",
    "                }\n",
    "                \n",
    "                stateManagerVar __objectName__.SNRadScale  radScale\n",
    "                stateManagerVar __objectName__.SNTeff  Teff\n",
    "                stateManagerVar __objectName__.SNAlpha  userAlpha\n",
    "                stateManagerVar __objectName__.SNdlim  dlim\n",
    "                stateManagerVar __objectName__.SNdpow  dpow\n",
    "                stateManagerVar __objectName__.SNdfac  dfac\n",
    "                \n",
    "                glState\n",
    "                {\n",
    "                    UV_CULL_FACE_ENABLE false\n",
    "                    UV_BLEND_ENABLE true\n",
    "                    UV_DEPTH_ENABLE false\n",
    "                    UV_WRITE_MASK_DEPTH true\n",
    "                    UV_BLEND_FUNC GL_SRC_ALPHA GL_ONE_MINUS_SRC_ALPHA\n",
    "                }\n",
    "            }\n",
    "\n",
    "        }    \n",
    "    }\n",
    "\n",
    "\n",
    "}\"\"\""
   ]
  },
  {
   "cell_type": "markdown",
   "metadata": {},
   "source": [
    "### Galaxy and SN Classes"
   ]
  },
  {
   "cell_type": "code",
   "execution_count": 78,
   "metadata": {},
   "outputs": [],
   "source": [
    "class GalaxyClass():\n",
    "    def __init__(self, object):\n",
    "        self.object = object\n",
    "        uvmod.Utility.ensurerelativepathexsists(\"FIREgas.raw\",dataFolder)        \n",
    "        uvmod.Utility.ensurerelativepathexsists(\"FIREstars.raw\",dataFolder)        \n",
    "        uvmod.Utility.ensurerelativepathexsists(\"galaxy.gs\",dataFolder)\n",
    "        uvmod.Utility.ensurerelativepathexsists(\"galaxy.fs\",dataFolder)\n",
    "        uvmod.Utility.ensurerelativepathexsists(\"galaxy.vs\",dataFolder)\n",
    "        self.cr = 1000\n",
    "    def generatemod(self):\n",
    "        self.object.setgeometry(self.object.name+\"Mesh.usesconf\")\n",
    "        return self.object.generatemod()\n",
    "    def generatefiles(self, absOutDir, relOutDir):\n",
    "        fileName = self.object.name+\"Mesh.usesconf\"\n",
    "        s = string.Template(GalaxyTemplate)\n",
    "        f = open(absOutDir+\"\\\\\"+fileName, 'w')\n",
    "        if f:\n",
    "            f.write(s.substitute(folderName = relOutDir, cr = self.cr))\n",
    "            f.close()\n",
    "        uvmod.Utility.copyfoldercontents(os.getcwd()+\"\\\\\"+dataFolder, absOutDir)\n",
    "        \n",
    "class SNClass():\n",
    "    def __init__(self, object):\n",
    "        self.object = object        \n",
    "        uvmod.Utility.ensurerelativepathexsists(\"SNcorona.gs\",dataFolder)\n",
    "        uvmod.Utility.ensurerelativepathexsists(\"SNcorona.fs\",dataFolder)\n",
    "        uvmod.Utility.ensurerelativepathexsists(\"SNcorona.vs\",dataFolder)\n",
    "        self.cr = 1000\n",
    "    def generatemod(self):\n",
    "        self.object.setgeometry(self.object.name+\"Mesh.usesconf\")\n",
    "        return self.object.generatemod()\n",
    "    def generatefiles(self, absOutDir, relOutDir):\n",
    "        fileName = self.object.name+\"Mesh.usesconf\"\n",
    "        s = string.Template(SN2014JTemplate)\n",
    "        f = open(absOutDir+\"\\\\\"+fileName, 'w')\n",
    "        if f:\n",
    "            f.write(s.substitute(folderName = relOutDir, cr = self.cr))\n",
    "            f.close()\n",
    "        uvmod.Utility.copyfoldercontents(os.getcwd()+\"\\\\\"+dataFolder, absOutDir)"
   ]
  },
  {
   "cell_type": "markdown",
   "metadata": {},
   "source": [
    "### Object Instantiation"
   ]
  },
  {
   "cell_type": "code",
   "execution_count": 79,
   "metadata": {},
   "outputs": [],
   "source": [
    "Gmodel = GalaxyClass(uvmod.OrbitalObject())\n",
    "Gscene = uvmod.Scene()\n",
    "GparentScene = uvmod.Scene()\n",
    "Gmodinfo = uvmod.ModuleInformation()\n",
    "Ggenerator = uvmod.Generator()"
   ]
  },
  {
   "cell_type": "code",
   "execution_count": 80,
   "metadata": {},
   "outputs": [],
   "source": [
    "Smodel = SNClass(uvmod.OrbitalObject())\n",
    "Sscene = uvmod.Scene()\n",
    "SparentScene = uvmod.Scene()\n",
    "Smodinfo = uvmod.ModuleInformation()\n",
    "Sgenerator = uvmod.Generator()"
   ]
  },
  {
   "cell_type": "markdown",
   "metadata": {},
   "source": [
    "### Specify Settings and generate the module"
   ]
  },
  {
   "cell_type": "code",
   "execution_count": 81,
   "metadata": {},
   "outputs": [
    {
     "name": "stdout",
     "output_type": "stream",
     "text": [
      "Unable to connect to Uniview\n"
     ]
    }
   ],
   "source": [
    "Gscene.setname(\"M82FIRE\")\n",
    "Gscene.setparent(\"Extragalactic\")\n",
    "Gscene.setunit(5e18)\n",
    "Gscene.setentrydist(1e5)\n",
    "Gscene.setstaticposition(-2.07816693, 1.6584028, 2.27616396)\n",
    "\n",
    "Gmodel.object.setcameraradius(1)\n",
    "Gmodel.object.setcoord(Gscene.name)\n",
    "Gmodel.object.setname(\"M82FIRE\")\n",
    "Gmodel.object.setguiname(\"/KavliLecture/Zooniverse/M82FIRE\")\n",
    "Gmodel.object.settargetradius(100)\n",
    "Gmodel.object.showatstartup(False)\n",
    "Gmodel.cr = 10\n",
    "\n",
    "Gmodinfo.setname(\"M82FIRE\")\n",
    "Gmodinfo.setauthor(\"Aaron Geller<sup>1</sup>, Laura Trouille<sup>1</sup>, Chris Lintott<sup>2</sup> and the FIRE collaboration<sip>3</sup><br />(1)Adler Planetarium,<br />(2)Oxford University,<br />(3)https://fire.northwestern.edu/\")\n",
    "Gmodinfo.cleardependencies()\n",
    "Gmodinfo.setdesc(\"Uniview module for a M82 using FIRE data\")\n",
    "Gmodinfo.setthumbnail(\"data/M82ScreenshotThumb.png\")\n",
    "Gmodinfo.setversion(\"1.0\")\n",
    "\n",
    "Ggenerator.generate(\"M82FIRE\",[Gscene],[Gmodel],Gmodinfo)\n",
    "uvmod.Utility.senduvcommand(Gmodel.object.name+\".reload\")\n"
   ]
  },
  {
   "cell_type": "code",
   "execution_count": 82,
   "metadata": {},
   "outputs": [
    {
     "name": "stdout",
     "output_type": "stream",
     "text": [
      "Unable to connect to Uniview\n"
     ]
    }
   ],
   "source": [
    "Sscene.setname(\"SN2014J\")\n",
    "Sscene.setparent(\"Extragalactic\")\n",
    "Sscene.setunit(5e18)\n",
    "Sscene.setentrydist(1e5)\n",
    "Sscene.setstaticposition(-2.07892522, 1.65798914, 2.27577283)\n",
    "\n",
    "Smodel.object.setcameraradius(1)\n",
    "Smodel.object.setcoord(Sscene.name)\n",
    "Smodel.object.setname(\"SN2014J\")\n",
    "Smodel.object.setguiname(\"/KavliLecture/Zooniverse/SN2014J\")\n",
    "Smodel.object.settargetradius(100)\n",
    "Smodel.object.showatstartup(False)\n",
    "Smodel.cr = 10\n",
    "\n",
    "Smodinfo.setname(\"SN2014J\")\n",
    "Smodinfo.setauthor(\"Aaron Geller<sup>1</sup>, Laura Trouille<sup>1</sup>, Chris Lintott<sup>2</sup> <br />(1)Adler Planetarium,<br />(2)Oxford University\")\n",
    "Smodinfo.cleardependencies()\n",
    "Smodinfo.setdesc(\"Uniview module for a SN2014J to be used with the M82FIRE model\")\n",
    "#Smodinfo.setthumbnail(\"data/M82ScreenshotThumb.png\")\n",
    "Smodinfo.setversion(\"1.0\")\n",
    "\n",
    "Sgenerator.generate(\"SN2014J\",[Sscene],[Smodel],Smodinfo)\n",
    "uvmod.Utility.senduvcommand(Smodel.object.name+\".reload\")"
   ]
  },
  {
   "cell_type": "markdown",
   "metadata": {},
   "source": [
    "## To reload"
   ]
  },
  {
   "cell_type": "code",
   "execution_count": 33,
   "metadata": {},
   "outputs": [],
   "source": [
    "from config import Settings"
   ]
  },
  {
   "cell_type": "code",
   "execution_count": 34,
   "metadata": {},
   "outputs": [],
   "source": [
    "uvmod.Utility.copyfoldercontents(os.getcwd()+\"\\\\\"+dataFolder, Settings.uvcustommodulelocation+'\\\\'+Gmodel.object.name)\n",
    "uvmod.Utility.senduvcommand(Gmodel.object.name+\".reload;\")\n",
    "uvmod.Utility.copyfoldercontents(os.getcwd()+\"\\\\\"+dataFolder, Settings.uvcustommodulelocation+'\\\\'+Smodel.object.name)\n",
    "uvmod.Utility.senduvcommand(Smodel.object.name+\".reload;\")"
   ]
  },
  {
   "cell_type": "markdown",
   "metadata": {},
   "source": [
    "### Create colormap texture"
   ]
  },
  {
   "cell_type": "code",
   "execution_count": 1,
   "metadata": {},
   "outputs": [],
   "source": [
    "import numpy as np\n",
    "import matplotlib.pyplot as plt\n",
    "from matplotlib import cm"
   ]
  },
  {
   "cell_type": "code",
   "execution_count": 2,
   "metadata": {
    "scrolled": true
   },
   "outputs": [
    {
     "data": {
      "image/png": "[encoded data removed]",
      "text/plain": [
       "<Figure size 432x288 with 1 Axes>"
      ]
     },
     "metadata": {
      "needs_background": "light"
     },
     "output_type": "display_data"
    }
   ],
   "source": [
    "gradient = np.linspace(0, 1, 256)\n",
    "gradient = np.vstack((gradient, gradient))\n",
    "\n",
    "def plot_cmap(colormap, fname):\n",
    "    fig=plt.imshow(gradient, aspect=1, cmap=colormap)\n",
    "    plt.axis('off')\n",
    "    fig.axes.get_xaxis().set_visible(False)\n",
    "    fig.axes.get_yaxis().set_visible(False)\n",
    "    plt.savefig(fname, bbox_inches='tight',pad_inches=0)\n",
    "\n",
    "\n",
    "plot_cmap('Blues', 'data/cmapBlues.png')\n",
    "plot_cmap('Reds', 'data/cmapReds.png')\n"
   ]
  },
  {
   "cell_type": "markdown",
   "metadata": {},
   "source": [
    "## M82 position \n",
    "\n",
    "*From https://en.wikipedia.org/wiki/Messier_82*"
   ]
  },
  {
   "cell_type": "code",
   "execution_count": 1,
   "metadata": {},
   "outputs": [],
   "source": [
    "from astropy.coordinates import SkyCoord, Distance\n",
    "from astropy import units"
   ]
  },
  {
   "cell_type": "code",
   "execution_count": 2,
   "metadata": {},
   "outputs": [
    {
     "name": "stdout",
     "output_type": "stream",
     "text": [
      "(-2.07816693, 1.6584028, 2.27616396) Mpc\n"
     ]
    }
   ],
   "source": [
    "RA = \"9h 55m 52.2s\" #right ascension\n",
    "Dec= \"69d 40m 47s\" #declination\n",
    "dist = (3500000 *units.pc).to(units.Mpc) #distance\n",
    "\n",
    "coord = SkyCoord(RA, Dec, dist)\n",
    "\n",
    "#print(coord.cartesian)\n",
    "print(coord.galactic.cartesian)\n"
   ]
  },
  {
   "cell_type": "markdown",
   "metadata": {},
   "source": [
    "## Position  of SN 2014J in M82\n",
    "\n",
    "https://en.wikipedia.org/wiki/SN_2014J"
   ]
  },
  {
   "cell_type": "code",
   "execution_count": 3,
   "metadata": {},
   "outputs": [
    {
     "name": "stdout",
     "output_type": "stream",
     "text": [
      "(-2.07892522, 1.65798914, 2.27577283) Mpc\n"
     ]
    }
   ],
   "source": [
    "RA = \"9h 55m 42.217s\" #right ascension\n",
    "Dec= \"69d 40m 26.56s\" #declination\n",
    "dist = (3500000 *units.pc).to(units.Mpc) #distance\n",
    "\n",
    "coord = SkyCoord(RA, Dec, dist)\n",
    "\n",
    "print(coord.galactic.cartesian)"
   ]
  },
  {
   "cell_type": "code",
   "execution_count": null,
   "metadata": {},
   "outputs": [],
   "source": []
  }
 ],
 "metadata": {
  "anaconda-cloud": {},
  "kernelspec": {
   "display_name": "Python 3",
   "language": "python",
   "name": "python3"
  },
  "language_info": {
   "codemirror_mode": {
    "name": "ipython",
    "version": 3
   },
   "file_extension": ".py",
   "mimetype": "text/x-python",
   "name": "python",
   "nbconvert_exporter": "python",
   "pygments_lexer": "ipython3",
   "version": "3.7.3"
  }
 },
 "nbformat": 4,
 "nbformat_minor": 1
}
