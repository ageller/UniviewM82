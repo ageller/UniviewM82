{
 "cells": [
  {
   "cell_type": "markdown",
   "metadata": {},
   "source": [
    "# Uniview module for [M82](https://en.wikipedia.org/wiki/Messier_82) \n",
    "\n",
    "I will use the  [FIRE](https://galaxies.northwestern.edu/fire-simulations/) isolated galaxy model that we've used for testing [Firefly](https://github.com/ageller/Firefly) here.  That simulation’s “proper name” is control_G4_020 and was run by Paul Torrey as part of his nuclear star formation paper.  Note, the bi-conical outflow in the simulation  is due to AGN feedback, so scientifically this isn’t accurate.  But the look should be fine for our purposes. \n",
    "\n",
    "*Aaron Geller, 2019*\n",
    "\n",
    "### Imports and function definitions"
   ]
  },
  {
   "cell_type": "code",
   "execution_count": 1,
   "metadata": {},
   "outputs": [],
   "source": [
    "#This directory contains all the data needed for the module. It should be in the same directory as the notebook\n",
    "dataFolder = \"data\"\n",
    "\n",
    "import sys, os, shutil, errno, string, urllib\n",
    "\n",
    "sys.path.append(( os.path.abspath( os.path.join(os.path.realpath(\"__file__\"),  os.pardir, os.pardir) )))\n",
    "#print(sys.path)\n",
    "import uvmodlib.v1 as uvmod"
   ]
  },
  {
   "cell_type": "markdown",
   "metadata": {},
   "source": [
    "### USES Conf Templates"
   ]
  },
  {
   "cell_type": "code",
   "execution_count": 34,
   "metadata": {},
   "outputs": [],
   "source": [
    "VoorwerpTemplate = \"\"\"mesh\n",
    "{  \n",
    "    data gas    ./modules/$folderName/FIREgas.raw\n",
    "    data stars    ./modules/$folderName/FIREstars.raw\n",
    "\n",
    "    #cullRadius $cr\n",
    "    glslVersion 330\n",
    "    enableTypeCheck true\n",
    "    \n",
    "    propertyCollection \n",
    "    {        \n",
    "        __objectName__\n",
    "        {           \n",
    "\n",
    "            \n",
    "            vec1f gasAlpha 0.1 | public | desc \"gas alpha\" | widget slider | range 0 1\n",
    "            vec1f gasPsize 0.1 | public | desc \"gas particle size\" | widget slider | range 0 10\n",
    "            vec1f gasVMin 0. | public | desc \"gas velocity colormap min\" | widget slider | range 0 500\n",
    "            vec1f gasVMax 500. | public | desc \"gas velocity colormap max\" | widget slider | range 500 1000\n",
    "            \n",
    "            vec1f starsAlpha 0.1 | public | desc \"stars alpha\" | widget slider | range 0 1\n",
    "            vec1f starsPsize 0.1 | public | desc \"stars particle size\" | widget slider | range 0 10\n",
    "            vec1f starsVMin 0. | public | desc \"stars velocity colormap min\" | widget slider | range 0 500\n",
    "            vec1f starsVMax 500. | public | desc \"stars velocity colormap max\" | widget slider | range 500 1000\n",
    "            \n",
    "            vec1f rotationX 0.0 | public | desc \"voorwerp X rotation angle\" | widget slider | range 0 6.283\n",
    "            vec1f rotationY 0.0 | public | desc \"voorwerp Y rotation angle\" | widget slider | range 0 6.283\n",
    "            vec1f rotationZ 0.0 | public | desc \"voorwerp Z rotation angle\" | widget slider | range 0 6.283\n",
    "        }\n",
    "    }\n",
    "\n",
    "\n",
    "   \n",
    "    ############# gas particles\n",
    "    pass\n",
    "    {\n",
    "        useDataObject gas\n",
    "        shader\n",
    "        {\n",
    "            type defaultMeshShader\n",
    "            {\n",
    "                geometryShader   ./modules/$folderName/galaxy.gs\n",
    "                vertexShader ./modules/$folderName/galaxy.vs\n",
    "                fragmentShader   ./modules/$folderName/galaxy.fs\n",
    "                texture cmap ./modules/$folderName/cmapReds.png\n",
    "                {             \n",
    "                    wrapModeS GL_CLAMP_TO_EDGE\n",
    "                    wrapModeR GL_CLAMP_TO_EDGE\n",
    "                    colorspace linear\n",
    "                } \n",
    "                stateManagerVar __objectName__.gasPsize  userPsize\n",
    "                stateManagerVar __objectName__.gasAlpha  userAlpha\n",
    "                stateManagerVar __objectName__.rotationX  userRotationX\n",
    "                stateManagerVar __objectName__.rotationY  userRotationY\n",
    "                stateManagerVar __objectName__.rotationZ  userRotationZ\n",
    "                \n",
    "                stateManagerVar __objectName__.gasVMin  vMin\n",
    "                stateManagerVar __objectName__.gasVMax  vMax\n",
    "\n",
    "                glState\n",
    "                {\n",
    "                    UV_CULL_FACE_ENABLE false\n",
    "                    UV_BLEND_ENABLE true\n",
    "                    UV_DEPTH_ENABLE false\n",
    "                    UV_WRITE_MASK_DEPTH true\n",
    "                    UV_BLEND_FUNC GL_SRC_ALPHA GL_ONE_MINUS_SRC_ALPHA\n",
    "                }\n",
    "            }\n",
    "\n",
    "        }  \n",
    "    }\n",
    "    \n",
    "    ############# stars particles\n",
    "    pass\n",
    "    {\n",
    "        useDataObject stars\n",
    "        shader\n",
    "        {\n",
    "            type defaultMeshShader\n",
    "            {\n",
    "                geometryShader   ./modules/$folderName/galaxy.gs\n",
    "                vertexShader ./modules/$folderName/galaxy.vs\n",
    "                fragmentShader   ./modules/$folderName/galaxy.fs\n",
    "                texture cmap ./modules/$folderName/cmapBlues.png\n",
    "                {             \n",
    "                    wrapModeS GL_CLAMP_TO_EDGE\n",
    "                    wrapModeR GL_CLAMP_TO_EDGE\n",
    "                    colorspace linear\n",
    "                } \n",
    "                stateManagerVar __objectName__.starsPsize  userPsize\n",
    "                stateManagerVar __objectName__.starsAlpha  userAlpha\n",
    "                stateManagerVar __objectName__.rotationX  userRotationX\n",
    "                stateManagerVar __objectName__.rotationY  userRotationY\n",
    "                stateManagerVar __objectName__.rotationZ  userRotationZ\n",
    "\n",
    "                stateManagerVar __objectName__.starsVMin  vMin\n",
    "                stateManagerVar __objectName__.starsVMax  vMax\n",
    "                \n",
    "                glState\n",
    "                {\n",
    "                    UV_CULL_FACE_ENABLE false\n",
    "                    UV_BLEND_ENABLE true\n",
    "                    UV_DEPTH_ENABLE false\n",
    "                    UV_WRITE_MASK_DEPTH true\n",
    "                    UV_BLEND_FUNC GL_SRC_ALPHA GL_ONE_MINUS_SRC_ALPHA\n",
    "                }\n",
    "            }\n",
    "\n",
    "        }  \n",
    "    }\n",
    "    \n",
    "\n",
    "\n",
    "    \n",
    "}\"\"\""
   ]
  },
  {
   "cell_type": "markdown",
   "metadata": {},
   "source": [
    "### Galaxy Class"
   ]
  },
  {
   "cell_type": "code",
   "execution_count": 35,
   "metadata": {},
   "outputs": [],
   "source": [
    "class GalaxyClass():\n",
    "    def __init__(self, object):\n",
    "        self.object = object\n",
    "        uvmod.Utility.ensurerelativepathexsists(\"FIREgas.raw\",dataFolder)        \n",
    "        uvmod.Utility.ensurerelativepathexsists(\"FIREstars.raw\",dataFolder)        \n",
    "        uvmod.Utility.ensurerelativepathexsists(\"galax.gs\",dataFolder)\n",
    "        uvmod.Utility.ensurerelativepathexsists(\"galaxy.fs\",dataFolder)\n",
    "        uvmod.Utility.ensurerelativepathexsists(\"galaxy.vs\",dataFolder)\n",
    "        self.cr = 1000\n",
    "    def generatemod(self):\n",
    "        self.object.setgeometry(self.object.name+\"Mesh.usesconf\")\n",
    "        return self.object.generatemod()\n",
    "    def generatefiles(self, absOutDir, relOutDir):\n",
    "        fileName = self.object.name+\"Mesh.usesconf\"\n",
    "        s = string.Template(VoorwerpTemplate)\n",
    "        f = open(absOutDir+\"\\\\\"+fileName, 'w')\n",
    "        if f:\n",
    "            f.write(s.substitute(folderName = relOutDir, cr = self.cr))\n",
    "            f.close()\n",
    "        uvmod.Utility.copyfoldercontents(os.getcwd()+\"\\\\\"+dataFolder, absOutDir)"
   ]
  },
  {
   "cell_type": "markdown",
   "metadata": {},
   "source": [
    "### Object Instantiation"
   ]
  },
  {
   "cell_type": "code",
   "execution_count": 36,
   "metadata": {},
   "outputs": [],
   "source": [
    "model = GalaxyClass(uvmod.OrbitalObject())\n",
    "scene = uvmod.Scene()\n",
    "parentScene = uvmod.Scene()\n",
    "modinfo = uvmod.ModuleInformation()\n",
    "generator = uvmod.Generator()"
   ]
  },
  {
   "cell_type": "markdown",
   "metadata": {},
   "source": [
    "### Specify Settings and generate the module"
   ]
  },
  {
   "cell_type": "code",
   "execution_count": 46,
   "metadata": {},
   "outputs": [
    {
     "name": "stdout",
     "output_type": "stream",
     "text": [
      "Unable to connect to Uniview\n"
     ]
    }
   ],
   "source": [
    "scene.setname(\"M82FIRE\")\n",
    "scene.setparent(\"Extragalactic\")\n",
    "scene.setunit(1e20)\n",
    "scene.setentrydist(1e5)\n",
    "scene.setstaticposition(-2.07816693, 1.6584028, 2.27616396)\n",
    "\n",
    "model.object.setcameraradius(1)\n",
    "model.object.setcoord(scene.name)\n",
    "model.object.setname(\"SNIa\")\n",
    "model.object.setguiname(\"/KavliLecture/Zooniverse/M82FIRE\")\n",
    "model.object.settargetradius(100)\n",
    "model.object.showatstartup(False)\n",
    "model.cr = 1000\n",
    "\n",
    "modinfo.setname(\"SNIa\")\n",
    "modinfo.setauthor(\"Aaron Geller<sup>1</sup>, Laura Trouille<sup>1</sup>, Chris Lintott<sup>2</sup> and the FIRE collaboration<sip>3</sup><br />(1)Adler Planetarium,<br />(2)Oxford University,<br />(3)https://fire.northwestern.edu/\")\n",
    "modinfo.cleardependencies()\n",
    "modinfo.setdesc(\"Uniview module for a M82 using FIRE data\")\n",
    "#modinfo.setthumbnail(\"data/SN1aScreenshotThumb.png\")\n",
    "modinfo.setversion(\"1.0\")\n",
    "\n",
    "generator.generate(\"SNIa\",[scene],[model],modinfo)\n",
    "uvmod.Utility.senduvcommand(model.object.name+\".reload\")\n"
   ]
  },
  {
   "cell_type": "markdown",
   "metadata": {},
   "source": [
    "## To reload"
   ]
  },
  {
   "cell_type": "code",
   "execution_count": 7,
   "metadata": {},
   "outputs": [],
   "source": [
    "from config import Settings"
   ]
  },
  {
   "cell_type": "code",
   "execution_count": 33,
   "metadata": {},
   "outputs": [],
   "source": [
    "uvmod.Utility.copyfoldercontents(os.getcwd()+\"\\\\\"+dataFolder, Settings.uvcustommodulelocation+'\\\\'+model.object.name)\n",
    "uvmod.Utility.senduvcommand(model.object.name+\".reload;\")"
   ]
  },
  {
   "cell_type": "markdown",
   "metadata": {},
   "source": [
    "### Create colormap texture"
   ]
  },
  {
   "cell_type": "code",
   "execution_count": 1,
   "metadata": {},
   "outputs": [],
   "source": [
    "import numpy as np\n",
    "import matplotlib.pyplot as plt\n",
    "from matplotlib import cm"
   ]
  },
  {
   "cell_type": "code",
   "execution_count": 2,
   "metadata": {
    "scrolled": true
   },
   "outputs": [
    {
     "data": {
      "image/png": "[encoded data removed]",
      "text/plain": [
       "<Figure size 432x288 with 1 Axes>"
      ]
     },
     "metadata": {
      "needs_background": "light"
     },
     "output_type": "display_data"
    }
   ],
   "source": [
    "gradient = np.linspace(0, 1, 256)\n",
    "gradient = np.vstack((gradient, gradient))\n",
    "\n",
    "def plot_cmap(colormap, fname):\n",
    "    fig=plt.imshow(gradient, aspect=1, cmap=colormap)\n",
    "    plt.axis('off')\n",
    "    fig.axes.get_xaxis().set_visible(False)\n",
    "    fig.axes.get_yaxis().set_visible(False)\n",
    "    plt.savefig(fname, bbox_inches='tight',pad_inches=0)\n",
    "\n",
    "\n",
    "plot_cmap('Blues', 'data/cmapBlues.png')\n",
    "plot_cmap('Reds', 'data/cmapReds.png')\n"
   ]
  },
  {
   "cell_type": "markdown",
   "metadata": {},
   "source": [
    "## M82 position \n",
    "\n",
    "*From https://en.wikipedia.org/wiki/Messier_82*"
   ]
  },
  {
   "cell_type": "code",
   "execution_count": 3,
   "metadata": {},
   "outputs": [],
   "source": [
    "from astropy.coordinates import SkyCoord, Distance\n",
    "from astropy import units"
   ]
  },
  {
   "cell_type": "code",
   "execution_count": 5,
   "metadata": {},
   "outputs": [
    {
     "name": "stdout",
     "output_type": "stream",
     "text": [
      "(-2.07816693, 1.6584028, 2.27616396) Mpc\n"
     ]
    }
   ],
   "source": [
    "RA = \"9h 55m 52.2s\" #right ascension\n",
    "Dec= \"69d 40m 47s\" #declination\n",
    "dist = (3500000 *units.pc).to(units.Mpc) #distance\n",
    "\n",
    "coord = SkyCoord(RA, Dec, dist)\n",
    "\n",
    "#print(coord.cartesian)\n",
    "print(coord.galactic.cartesian)\n"
   ]
  },
  {
   "cell_type": "code",
   "execution_count": null,
   "metadata": {},
   "outputs": [],
   "source": []
  }
 ],
 "metadata": {
  "anaconda-cloud": {},
  "kernelspec": {
   "display_name": "Python 3",
   "language": "python",
   "name": "python3"
  },
  "language_info": {
   "codemirror_mode": {
    "name": "ipython",
    "version": 3
   },
   "file_extension": ".py",
   "mimetype": "text/x-python",
   "name": "python",
   "nbconvert_exporter": "python",
   "pygments_lexer": "ipython3",
   "version": "3.7.3"
  }
 },
 "nbformat": 4,
 "nbformat_minor": 1
}
